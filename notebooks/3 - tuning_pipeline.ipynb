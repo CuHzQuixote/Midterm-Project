{
  "cells": [
    {
      "cell_type": "markdown",
      "metadata": {
        "id": "h4UWilwaa2Qm"
      },
      "source": [
        "## Hyperparam Tuning\n",
        "\n",
        "Now that we know which models are performing better, it's time to perform cross validation and tune hyperparameters.\n",
        "- Do a google search for hyperparameter ranges for each type of model.\n",
        "\n",
        "GridSearch/RandomSearch are a great methods for checking off both of these tasks.\n",
        "\n",
        "There is a fairly significant issue with this approach for this particular problem (described below). But in the interest of creating a basic functional pipeline, you can just use the default Sklearn methods for now.\n",
        "\n",
        "## Preventing Data Leakage in Tuning - STRETCH\n",
        "\n",
        "> **This step doesn't need to be part of your Minimum Viable Product (MVP), but its highly recommended you complete it, if you have time!**\n",
        "\n",
        "BUT we have a problem - if we calculated a numerical value to encode city (such as the mean of sale prices in that city) on the training data, we can't cross validate\n",
        "- The rows in each validation fold were part of the original calculation of the mean for that city - that means we're leaking information!\n",
        "- While sklearn's built in functions are extremely useful, sometimes it is necessary to do things ourselves\n",
        "\n",
        "You need to create two functions to replicate what Gridsearch does under the hood. This is a challenging, real world data problem! To help you out, we've created some psuedocode and docstrings to get you started.\n",
        "\n",
        "**`custom_cross_validation()`**\n",
        "- Should take the training data, and divide it into multiple train/validation splits.\n",
        "- Look into `sklearn.model_selection.KFold` to accomplish this - the [documentation](https://scikit-learn.org/stable/modules/generated/sklearn.model_selection.KFold.html) shows how to split a dataframe and loop through the indexes of your split data.\n",
        "- Within your function, you should compute the city means on the training folds just like you did in Notebook 1 - you may have to re-join the city column to do this - and then join these values to the validation fold\n",
        "\n",
        "This psuedocode may help you fill in the function:\n",
        "\n",
        "```python\n",
        "kfold = KFold() # fit sklearn k folds on X_train\n",
        "train_folds = []\n",
        "val_folds = []\n",
        "for training_index, val_index in kfold.split(X_train):\n",
        "    train_fold, val_fold = #.iloc loop variables on X_train\n",
        "\n",
        "    # recompute training city means like you did in notebook 1\n",
        "    # merge to validation fold\n",
        "        \n",
        "    train_folds.append(train_fold)\n",
        "    val_folds.append(val_fold)\n",
        "\n",
        "    return train_folds, val_folds\n",
        "```\n",
        "\n",
        "\n",
        "**`hyperparameter_search()`**\n",
        "- Should take the validation and training splits from your previous function, along with your dictionary of hyperparameter values\n",
        "- For each set of hyperparameter values, fit your chosen model on each set of training folds, and take the average of your chosen scoring metric. [itertools.product()](https://docs.python.org/3/library/itertools.html) will be helpful for looping through all combinations of hyperparameter values\n",
        "- Your function should output the hyperparameter values corresponding the highest average score across all folds. Alternatively, it could also output a model object fit on the full training dataset with these parameters.\n",
        "\n",
        "\n",
        "This psuedocode may help you fill in the function:\n",
        "\n",
        "```python\n",
        "hyperparams = # Generate hyperparam options with itertools\n",
        "hyperparam-scores = []\n",
        "for hyperparam-combo in hyperparams:\n",
        "\n",
        "    scores = []\n",
        "\n",
        "    for folds in allmyfolds:\n",
        "        # score fold the fold with the model/ hyperparams\n",
        "        scores.append(score-fold)\n",
        "        \n",
        "    score = scores.mean()\n",
        "    hyperparam-scores.append(score)\n",
        "# After loop, find max of hyperparam-scores. Best params are at same index in `hyperparams` loop iteratble\n",
        "```\n",
        "\n",
        "Docstrings have been provided below to get you started. Once you're done developing your functions, you should move them to `functions_variables.py` to keep your notebook clean\n",
        "\n",
        "Bear in mind that these instructions are just one way to tackle this problem - the inputs and output formats don't need to be exactly as specified here."
      ]
    },
    {
      "cell_type": "code",
      "execution_count": null,
      "metadata": {
        "id": "q0onEIXaa2Qo"
      },
      "outputs": [],
      "source": [
        "# develop your custom functions here\n",
        "\n",
        "def custom_cross_validation(training_data, n_splits =5):\n",
        "    '''creates n_splits sets of training and validation folds\n",
        "\n",
        "    Args:\n",
        "      training_data: the dataframe of features and target to be divided into folds\n",
        "      n_splits: the number of sets of folds to be created\n",
        "\n",
        "    Returns:\n",
        "      A tuple of lists, where the first index is a list of the training folds,\n",
        "      and the second the corresponding validation fold\n",
        "\n",
        "    Example:\n",
        "        >>> output = custom_cross_validation(train_df, n_splits = 10)\n",
        "        >>> output[0][0] # The first training fold\n",
        "        >>> output[1][0] # The first validation fold\n",
        "        >>> output[0][1] # The second training fold\n",
        "        >>> output[1][1] # The second validation fold... etc.\n",
        "    '''\n",
        "\n",
        "    return training_folds, validation_folds\n",
        "\n",
        "def hyperparameter_search(training_folds, validation_folds, param_grid):\n",
        "    '''outputs the best combination of hyperparameter settings in the param grid,\n",
        "    given the training and validation folds\n",
        "\n",
        "    Args:\n",
        "      training_folds: the list of training fold dataframes\n",
        "      validation_folds: the list of validation fold dataframes\n",
        "      param_grid: the dictionary of possible hyperparameter values for the chosen model\n",
        "\n",
        "    Returns:\n",
        "      A list of the best hyperparameter settings based on the chosen metric\n",
        "\n",
        "    Example:\n",
        "        >>> param_grid = {\n",
        "          'max_depth': [None, 10, 20, 30],\n",
        "          'min_samples_split': [2, 5, 10],\n",
        "          'min_samples_leaf': [1, 2, 4],\n",
        "          'max_features': ['sqrt', 'log2']} # for random forest\n",
        "        >>> hyperparameter_search(output[0], output[1], param_grid = param_grid)\n",
        "        # assuming 'ouput' is the output of custom_cross_validation()\n",
        "        [20, 5, 2, 'log2'] # hyperparams in order\n",
        "    '''\n",
        "\n",
        "    return hyperparameters\n"
      ]
    },
    {
      "cell_type": "markdown",
      "metadata": {
        "id": "pyISLGb_a2Qo"
      },
      "source": [
        "## Hyperparam Tuning"
      ]
    },
    {
      "cell_type": "code",
      "execution_count": null,
      "metadata": {
        "id": "LBaFt5OEa2Qp"
      },
      "outputs": [],
      "source": [
        "# perform tuning and cross validation here\n",
        "# using GridsearchCV/ RandomsearchCV (MVP)\n",
        "# or your custom functions\n",
        "from sklearn.model_selection import GridSearchCV\n",
        "from sklearn.model_selection import RandomizedSearchCV"
      ]
    },
    {
      "cell_type": "code",
      "execution_count": null,
      "metadata": {
        "colab": {
          "base_uri": "https://localhost:8080/"
        },
        "id": "jR4vfb7XFzzN",
        "outputId": "8cf378c8-4707-44d4-ffab-2d283089b6fb"
      },
      "outputs": [
        {
          "name": "stdout",
          "output_type": "stream",
          "text": [
            "✅ Models loaded successfully!\n",
            "Available models: ['Linear Regression', 'Support Vector Regression', 'Random Forest', 'XGBoost']\n"
          ]
        }
      ],
      "source": [
        "import pickle\n",
        "\n",
        "# Load all models from the pickle file\n",
        "with open(\"trained_models.pkl\", \"rb\") as f:\n",
        "    loaded_models = pickle.load(f)\n",
        "\n",
        "\n",
        "print(\"Available models:\", list(loaded_models.keys()))  # Check which models are in the file\n"
      ]
    },
    {
      "cell_type": "code",
      "execution_count": null,
      "metadata": {
        "id": "VEFTosY3F2gm"
      },
      "outputs": [],
      "source": [
        "rf_model = loaded_models[\"Random Forest\"]\n",
        "xgb_model = loaded_models[\"XGBoost\"]\n",
        "svr_model = loaded_models[\"Support Vector Regression\"]\n",
        "lr_model = loaded_models[\"Linear Regression\"]"
      ]
    },
    {
      "cell_type": "code",
      "execution_count": null,
      "metadata": {
        "colab": {
          "base_uri": "https://localhost:8080/"
        },
        "id": "JHP-IkZRqX_l",
        "outputId": "9bce4e29-3913-4701-d4b7-b1ba050cb658"
      },
      "outputs": [
        {
          "name": "stdout",
          "output_type": "stream",
          "text": [
            "✅ Models loaded successfully!\n",
            "Available models: ['Linear Regression', 'Support Vector Regression', 'Random Forest', 'XGBoost']\n"
          ]
        }
      ],
      "source": [
        "import pickle\n",
        "from sklearn.model_selection import cross_val_score\n",
        "from sklearn.model_selection import train_test_split # Import train_test_split\n",
        "import pandas as pd\n",
        "\n",
        "# Load all models from the pickle file\n",
        "with open(\"trained_models.pkl\", \"rb\") as f:\n",
        "    loaded_models = pickle.load(f)\n",
        "\n",
        "\n",
        "print(\"Available models:\", list(loaded_models.keys()))  # Check which models are in the file\n",
        "X_train = pd.read_csv(\"X_train.csv\")\n",
        "y_train = pd.read_csv(\"y_train.csv\")"
      ]
    },
    {
      "cell_type": "code",
      "execution_count": null,
      "metadata": {
        "colab": {
          "base_uri": "https://localhost:8080/"
        },
        "id": "zuv5H74yq5r2",
        "outputId": "e7cc54ed-c820-42e8-d90a-72384ce13bb8"
      },
      "outputs": [
        {
          "name": "stdout",
          "output_type": "stream",
          "text": [
            "✅ Models loaded successfully!\n",
            "Available models: ['Linear Regression', 'Support Vector Regression', 'Random Forest', 'XGBoost']\n",
            "Dropping column 'status' as it contains non-numeric values or 'sold'\n",
            "Dropping column 'list_date' as it contains non-numeric values or 'sold'\n",
            "Converted datetime column 'sold_date' to numerical features\n",
            "Dropping column 'type' as it contains non-numeric values or 'sold'\n",
            "Dropping column 'address' as it contains non-numeric values or 'sold'\n",
            "Dropping column 'city' as it contains non-numeric values or 'sold'\n",
            "Dropping column 'state' as it contains non-numeric values or 'sold'\n",
            "Dropping column 'latitude' as it contains non-numeric values or 'sold'\n",
            "Dropping column 'longitude' as it contains non-numeric values or 'sold'\n"
          ]
        },
        {
          "name": "stderr",
          "output_type": "stream",
          "text": [
            "<ipython-input-33-30fdb023479f>:20: UserWarning: Could not infer format, so each element will be parsed individually, falling back to `dateutil`. To ensure parsing is consistent and as-expected, please specify a format.\n",
            "  X_train[col] = pd.to_datetime(X_train[col])\n",
            "<ipython-input-33-30fdb023479f>:20: UserWarning: Could not infer format, so each element will be parsed individually, falling back to `dateutil`. To ensure parsing is consistent and as-expected, please specify a format.\n",
            "  X_train[col] = pd.to_datetime(X_train[col])\n",
            "<ipython-input-33-30fdb023479f>:20: UserWarning: Could not infer format, so each element will be parsed individually, falling back to `dateutil`. To ensure parsing is consistent and as-expected, please specify a format.\n",
            "  X_train[col] = pd.to_datetime(X_train[col])\n",
            "<ipython-input-33-30fdb023479f>:20: UserWarning: Could not infer format, so each element will be parsed individually, falling back to `dateutil`. To ensure parsing is consistent and as-expected, please specify a format.\n",
            "  X_train[col] = pd.to_datetime(X_train[col])\n",
            "<ipython-input-33-30fdb023479f>:20: UserWarning: Could not infer format, so each element will be parsed individually, falling back to `dateutil`. To ensure parsing is consistent and as-expected, please specify a format.\n",
            "  X_train[col] = pd.to_datetime(X_train[col])\n",
            "<ipython-input-33-30fdb023479f>:20: UserWarning: Could not infer format, so each element will be parsed individually, falling back to `dateutil`. To ensure parsing is consistent and as-expected, please specify a format.\n",
            "  X_train[col] = pd.to_datetime(X_train[col])\n"
          ]
        },
        {
          "name": "stdout",
          "output_type": "stream",
          "text": [
            "✅ Cross-validation completed!\n"
          ]
        }
      ],
      "source": [
        "import pickle\n",
        "from sklearn.model_selection import cross_val_score\n",
        "from sklearn.model_selection import train_test_split  # Import train_test_split\n",
        "import pandas as pd\n",
        "\n",
        "# Load all models from the pickle file\n",
        "with open(\"trained_models.pkl\", \"rb\") as f:\n",
        "    loaded_models = pickle.load(f)\n",
        "\n",
        "print(\"Available models:\", list(loaded_models.keys()))  # Check which models are in the file\n",
        "X_train = pd.read_csv(\"X_train.csv\")\n",
        "y_train = pd.read_csv(\"y_train.csv\")\n",
        "\n",
        "# Identify and drop or convert columns containing date-time strings or 'sold' in X_train\n",
        "for col in X_train.columns:\n",
        "    if X_train[col].dtype == 'object':  # Check if column is of object type (likely string)\n",
        "        # Attempt to convert to datetime, if successful, extract numerical features\n",
        "        try:\n",
        "            X_train[col] = pd.to_datetime(X_train[col])\n",
        "            X_train[col + '_year'] = X_train[col].dt.year\n",
        "            X_train[col + '_month'] = X_train[col].dt.month\n",
        "            X_train[col + '_day'] = X_train[col].dt.day\n",
        "            X_train = X_train.drop(columns=[col])  # Drop original datetime column\n",
        "            print(f\"Converted datetime column '{col}' to numerical features\")\n",
        "        except ValueError:\n",
        "            # If conversion fails, it's likely not a datetime, proceed to check for 'sold' or other non-numeric values\n",
        "            if X_train[col].str.contains('sold', na=False).any() or not pd.api.types.is_numeric_dtype(X_train[col]):\n",
        "                print(f\"Dropping column '{col}' as it contains non-numeric values or 'sold'\")\n",
        "                X_train = X_train.drop(columns=[col])  # Remove this from the DataFrame for X\n",
        "\n",
        "cv_folds = 5  # Define number of folds\n",
        "cv_results = {}\n",
        "\n",
        "for name, model in loaded_models.items():\n",
        "    scores = cross_val_score(model, X_train, y_train.values.ravel(), cv=cv_folds, scoring=\"r2\") # ravel y_train to 1D array\n",
        "    cv_results[name] = {\n",
        "        \"Mean R²\": scores.mean(),\n",
        "        \"Std Dev\": scores.std()\n",
        "    }\n",
        "\n"
      ]
    },
    {
      "cell_type": "code",
      "execution_count": null,
      "metadata": {
        "colab": {
          "base_uri": "https://localhost:8080/"
        },
        "id": "duxTAiVvsjZm",
        "outputId": "1b3bb947-b6fd-49b7-c58a-bda1550d1543"
      },
      "outputs": [
        {
          "name": "stdout",
          "output_type": "stream",
          "text": [
            "Linear Regression Cross-Validation Performance:\n",
            "  - Mean R²: 0.9884\n",
            "  - Std Dev: 0.0077\n",
            "--------------------------------------------------\n",
            "Support Vector Regression Cross-Validation Performance:\n",
            "  - Mean R²: -0.0132\n",
            "  - Std Dev: 0.0077\n",
            "--------------------------------------------------\n",
            "Random Forest Cross-Validation Performance:\n",
            "  - Mean R²: 0.9691\n",
            "  - Std Dev: 0.0610\n",
            "--------------------------------------------------\n",
            "XGBoost Cross-Validation Performance:\n",
            "  - Mean R²: 0.9767\n",
            "  - Std Dev: 0.0465\n",
            "--------------------------------------------------\n"
          ]
        }
      ],
      "source": [
        "for name, metrics in cv_results.items():\n",
        "    print(f\"{name} Cross-Validation Performance:\")\n",
        "    print(f\"  - Mean R²: {metrics['Mean R²']:.4f}\")\n",
        "    print(f\"  - Std Dev: {metrics['Std Dev']:.4f}\")\n",
        "    print(\"-\" * 50)"
      ]
    },
    {
      "cell_type": "code",
      "execution_count": null,
      "metadata": {
        "id": "iaqPItnowMjE"
      },
      "outputs": [],
      "source": [
        "import numpy as np\n",
        "y_train =np.ravel(y_train)"
      ]
    },
    {
      "cell_type": "code",
      "execution_count": null,
      "metadata": {
        "colab": {
          "base_uri": "https://localhost:8080/"
        },
        "id": "ZEYAibWuspBf",
        "outputId": "93d75371-9c44-4cd5-ee47-ff3089fb90f7"
      },
      "outputs": [
        {
          "output_type": "stream",
          "name": "stdout",
          "text": [
            "Fitting 3 folds for each of 6 candidates, totalling 18 fits\n",
            "✅ Best Parameters for Random Forest: {'n_estimators': 200, 'min_samples_split': 2, 'max_depth': 20}\n",
            "📊 Best R² Score: 0.9525979278968667\n"
          ]
        }
      ],
      "source": [
        "from sklearn.model_selection import GridSearchCV\n",
        "from sklearn.ensemble import RandomForestRegressor\n",
        "\n",
        "rf_param_grid = {\n",
        "    \"n_estimators\": [100, 200],  # Reduce from 3 values → 2\n",
        "    \"max_depth\": [10, 20],  # Reduce from 3 values → 2\n",
        "    \"min_samples_split\": [2, 5]  # Reduce from 3 values → 2\n",
        "}\n",
        "\n",
        "grid_search_rf = RandomizedSearchCV(\n",
        "    RandomForestRegressor(random_state=42),\n",
        "    rf_param_grid,\n",
        "    cv=3,\n",
        "    n_iter=6,\n",
        "    scoring=\"r2\",\n",
        "    n_jobs=-1,\n",
        "    verbose=2\n",
        ")\n",
        "\n",
        "grid_search_rf.fit(X_train, y_train)\n",
        "\n",
        "print(\" Best Parameters for Random Forest:\", grid_search_rf.best_params_)\n",
        "print(\" Best R² Score:\", grid_search_rf.best_score_)\n"
      ]
    },
    {
      "cell_type": "code",
      "execution_count": null,
      "metadata": {
        "id": "OHJJZbDf1jc5",
        "colab": {
          "base_uri": "https://localhost:8080/"
        },
        "outputId": "de2a7f47-37d2-4455-f66c-f600729d4cec"
      },
      "outputs": [
        {
          "output_type": "stream",
          "name": "stdout",
          "text": [
            "Fitting 3 folds for each of 6 candidates, totalling 18 fits\n",
            "✅ Best Parameters for XGBoost: {'n_estimators': 200, 'max_depth': 3, 'learning_rate': 0.1}\n",
            "📊 Best R² Score: 0.9720388188054608\n"
          ]
        }
      ],
      "source": [
        "# Define hyperparameters for XGBoost\n",
        "from xgboost import XGBRegressor\n",
        "xgb_param_grid = {\n",
        "    \"n_estimators\": [100, 200],  # Reduce from 3 values → 2\n",
        "    \"learning_rate\": [0.01, 0.1],  # Reduce from 3 values → 2\n",
        "    \"max_depth\": [3, 6]  # Reduce from 3 values → 2\n",
        "}\n",
        "\n",
        "grid_search_xgb = RandomizedSearchCV(\n",
        "    XGBRegressor(random_state=42),\n",
        "    xgb_param_grid,\n",
        "    cv=3,\n",
        "    n_iter=6,\n",
        "    scoring=\"r2\",\n",
        "    n_jobs=-1,\n",
        "    verbose=2\n",
        ")\n",
        "\n",
        "grid_search_xgb.fit(X_train, y_train)\n",
        "\n",
        "print(\" Best Parameters for XGBoost:\", grid_search_xgb.best_params_)\n",
        "print(\" Best R² Score:\", grid_search_xgb.best_score_)\n"
      ]
    },
    {
      "cell_type": "code",
      "source": [
        "from sklearn.model_selection import RandomizedSearchCV  # Keep this\n",
        "from sklearn.svm import SVR\n",
        "from sklearn.preprocessing import StandardScaler  # Ensure this is imported\n",
        "import pandas as pd  # Import pandas for reading data\n",
        "\n",
        "# Define hyperparameters for SVR\n",
        "svr_param_grid = {\n",
        "    \"kernel\": [\"rbf\"],\n",
        "    \"C\": [1, 10],  # Reduced from 3 values to 2\n",
        "    \"epsilon\": [0.01, 0.1]  # Reduced from 3 to 2\n",
        "}\n",
        "\n",
        "# Apply Scaling\n",
        "scaler = StandardScaler()\n",
        "X_train_scaled = scaler.fit_transform(X_train)\n",
        "\n",
        "# Load X_test data - Assuming it's in a CSV file named 'X_test.csv'\n",
        "X_test = pd.read_csv(\"X_test.csv\")\n",
        "\n",
        "# Preprocess X_test similarly to X_train\n",
        "# Ensure X_test has the same columns as X_train used during fitting\n",
        "# 1. Identify and drop or convert columns containing date-time strings or 'sold' in X_test\n",
        "for col in X_test.columns:\n",
        "    if X_test[col].dtype == 'object':\n",
        "        try:\n",
        "            # Attempt to convert to datetime, if successful, extract numerical features\n",
        "            X_test[col] = pd.to_datetime(X_test[col])\n",
        "            X_test[col + '_year'] = X_test[col].dt.year\n",
        "            X_test[col + '_month'] = X_test[col].dt.month\n",
        "            X_test[col + '_day'] = X_test[col].dt.day\n",
        "            X_test = X_test.drop(columns=[col])  # Drop original datetime column\n",
        "            print(f\"Converted datetime column '{col}' to numerical features\")\n",
        "        except ValueError:\n",
        "            # If conversion fails, it's likely not a datetime, proceed to check for 'sold' or other non-numeric values\n",
        "            if X_test[col].str.contains('sold', na=False).any() or not pd.api.types.is_numeric_dtype(X_test[col]):\n",
        "                print(f\"Dropping column '{col}' as it contains non-numeric values or 'sold'\")\n",
        "                X_test = X_test.drop(columns=[col])  # Remove this from the DataFrame for X\n",
        "\n",
        "\n",
        "# 2. Apply the same scaling as used for X_train\n",
        "X_test_scaled = scaler.transform(X_test)"
      ],
      "metadata": {
        "colab": {
          "base_uri": "https://localhost:8080/"
        },
        "id": "g66s5hQcPmoS",
        "outputId": "0b914f0f-e13b-428c-d2c4-eec0d2d42e32"
      },
      "execution_count": null,
      "outputs": [
        {
          "output_type": "stream",
          "name": "stdout",
          "text": [
            "Dropping column 'status' as it contains non-numeric values or 'sold'\n",
            "Dropping column 'list_date' as it contains non-numeric values or 'sold'\n",
            "Converted datetime column 'sold_date' to numerical features\n",
            "Dropping column 'type' as it contains non-numeric values or 'sold'\n",
            "Dropping column 'address' as it contains non-numeric values or 'sold'\n",
            "Dropping column 'city' as it contains non-numeric values or 'sold'\n",
            "Dropping column 'state' as it contains non-numeric values or 'sold'\n",
            "Dropping column 'latitude' as it contains non-numeric values or 'sold'\n",
            "Dropping column 'longitude' as it contains non-numeric values or 'sold'\n"
          ]
        },
        {
          "output_type": "stream",
          "name": "stderr",
          "text": [
            "<ipython-input-73-3c005eede403>:27: UserWarning: Could not infer format, so each element will be parsed individually, falling back to `dateutil`. To ensure parsing is consistent and as-expected, please specify a format.\n",
            "  X_test[col] = pd.to_datetime(X_test[col])\n",
            "<ipython-input-73-3c005eede403>:27: UserWarning: Could not infer format, so each element will be parsed individually, falling back to `dateutil`. To ensure parsing is consistent and as-expected, please specify a format.\n",
            "  X_test[col] = pd.to_datetime(X_test[col])\n",
            "<ipython-input-73-3c005eede403>:27: UserWarning: Could not infer format, so each element will be parsed individually, falling back to `dateutil`. To ensure parsing is consistent and as-expected, please specify a format.\n",
            "  X_test[col] = pd.to_datetime(X_test[col])\n",
            "<ipython-input-73-3c005eede403>:27: UserWarning: Could not infer format, so each element will be parsed individually, falling back to `dateutil`. To ensure parsing is consistent and as-expected, please specify a format.\n",
            "  X_test[col] = pd.to_datetime(X_test[col])\n",
            "<ipython-input-73-3c005eede403>:27: UserWarning: Could not infer format, so each element will be parsed individually, falling back to `dateutil`. To ensure parsing is consistent and as-expected, please specify a format.\n",
            "  X_test[col] = pd.to_datetime(X_test[col])\n",
            "<ipython-input-73-3c005eede403>:27: UserWarning: Could not infer format, so each element will be parsed individually, falling back to `dateutil`. To ensure parsing is consistent and as-expected, please specify a format.\n",
            "  X_test[col] = pd.to_datetime(X_test[col])\n"
          ]
        }
      ]
    },
    {
      "cell_type": "code",
      "source": [
        "print (\" Best Parameters for SVR:\", grid_search_svr.best_params_)\n",
        "print(\" Best R² Score:\", grid_search_svr.best_score_)"
      ],
      "metadata": {
        "colab": {
          "base_uri": "https://localhost:8080/"
        },
        "id": "rQs1WCgL1BuD",
        "outputId": "3b60ff89-765d-4f25-a05b-01dfb007ee04"
      },
      "execution_count": null,
      "outputs": [
        {
          "output_type": "stream",
          "name": "stdout",
          "text": [
            "✅ Best Parameters for SVR: {'kernel': 'rbf', 'epsilon': 0.1, 'C': 10}\n",
            "📊 Best R² Score: -0.009309857432915089\n"
          ]
        }
      ]
    },
    {
      "cell_type": "markdown",
      "metadata": {
        "id": "RwJGGgwGa2Qp"
      },
      "source": [
        "We want to make sure that we save our models.  In the old days, one just simply pickled (serialized) the model.  Now, however, certain model types have their own save format.  If the model is from sklearn, it can be pickled, if it's xgboost, for example, the newest format to save it in is JSON, but it can also be pickled.  It's a good idea to stay with the most current methods.\n",
        "- you may want to create a new `models/` subdirectory in your repo to stay organized"
      ]
    },
    {
      "cell_type": "code",
      "execution_count": null,
      "metadata": {
        "id": "zw9KaJHna2Qp"
      },
      "outputs": [],
      "source": [
        "\n",
        "import pickle\n",
        "\n",
        "\n",
        "with open(\"best_xgb_model.pkl\", \"wb\") as f:\n",
        "    pickle.dump(grid_search_xgb.best_estimator_, f)\n"
      ]
    },
    {
      "cell_type": "markdown",
      "metadata": {
        "id": "fdltK_h1a2Qq"
      },
      "source": [
        "## Building a Pipeline (Stretch)\n",
        "\n",
        "> **This step doesn't need to be part of your Minimum Viable Product (MVP), but its highly recommended you complete it if you have time!**\n",
        "\n",
        "Once you've identified which model works the best, implement a prediction pipeline to make sure that you haven't leaked any data, and that the model could be easily deployed if desired.\n",
        "- Your pipeline should load the data, process it, load your saved tuned model, and output a set of predictions\n",
        "- Assume that the new data is in the same JSON format as your original data - you can use your original data to check that the pipeline works correctly\n",
        "- Beware that a pipeline can only handle functions with fit and transform methods.\n",
        "- Classes can be used to get around this, but now sklearn has a wrapper for user defined functions.\n",
        "- You can develop your functions or classes in the notebook here, but once they are working, you should import them from `functions_variables.py`"
      ]
    },
    {
      "cell_type": "code",
      "execution_count": null,
      "metadata": {
        "id": "cnrd98HFa2Qq"
      },
      "outputs": [],
      "source": [
        "# Build pipeline here"
      ]
    },
    {
      "cell_type": "markdown",
      "metadata": {
        "id": "25W0pzg0a2Qq"
      },
      "source": [
        "Pipelines come from sklearn.  When a pipeline is pickled, all of the information in the pipeline is stored with it.  For example, if we were deploying a model, and we had fit a scaler on the training data, we would want the same, already fitted scaling object to transform the new data with.  This is all stored when the pipeline is pickled.\n",
        "- save your final pipeline in your `models/` folder"
      ]
    },
    {
      "cell_type": "code",
      "execution_count": null,
      "metadata": {
        "id": "mAEpYTlqa2Qq"
      },
      "outputs": [],
      "source": [
        "# save your pipeline here"
      ]
    }
  ],
  "metadata": {
    "colab": {
      "provenance": []
    },
    "kernelspec": {
      "display_name": "Python 3",
      "language": "python",
      "name": "python3"
    },
    "language_info": {
      "name": "python",
      "version": "3.9.0"
    }
  },
  "nbformat": 4,
  "nbformat_minor": 0
}